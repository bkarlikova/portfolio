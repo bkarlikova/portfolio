{
 "cells": [
  {
   "cell_type": "code",
   "execution_count": 1,
   "metadata": {},
   "outputs": [],
   "source": [
    "import numpy as np\n",
    "import gmpy2\n",
    "from gmpy2 import mpz,isqrt,is_prime\n",
    "import math\n",
    "import time"
   ]
  },
  {
   "cell_type": "code",
   "execution_count": 2,
   "metadata": {},
   "outputs": [],
   "source": [
    "def is_smooth(n, factor_base):\n",
    "    if n < 1:\n",
    "        return False\n",
    "    for i in factor_base:\n",
    "        while n % i == 0:\n",
    "            n //= i\n",
    "    if n == 1:\n",
    "        return True\n",
    "    return False\n",
    "\n",
    "def generate_factor_base(n, size_of_base):\n",
    "    # if the size of base is not specified, calculate\n",
    "    if size_of_base == 0:\n",
    "        if n > 1.00e+14:\n",
    "            size_of_base = min(gmpy2.exp((1/6) * (isqrt(mpz(gmpy2.log(n)*(gmpy2.log(n)))))), 150)\n",
    "        elif n > 1.00e+8:\n",
    "            size_of_base = min(gmpy2.exp((1/4) * (isqrt(mpz(gmpy2.log(n)*(gmpy2.log(n)))))), 120)\n",
    "        elif n > 1.00e+5:\n",
    "            size_of_base = min(gmpy2.exp((1/2) * (isqrt(mpz(gmpy2.log(n)*(gmpy2.log(n)))))), 70)\n",
    "        else:\n",
    "            size_of_base = min(gmpy2.exp((1/2) * (isqrt(mpz(gmpy2.log(n)*(gmpy2.log(n)))))), 30)\n",
    "    base = [2]\n",
    "    i = 3\n",
    "    while len(base) < size_of_base:\n",
    "        if is_prime(i):\n",
    "            base += [i]\n",
    "        i += 1\n",
    "    return base\n",
    "\n",
    "def get_factors(n, factor_base):\n",
    "    exponents = np.zeros(len(factor_base))\n",
    "    for i, prime in enumerate(factor_base):\n",
    "        while n % prime == 0:\n",
    "            # fun fact: using n = n / prime will cause over flow for numbers > 1e+24, so don't use that\n",
    "            n //= prime\n",
    "            exponents[i] += 1\n",
    "    if n == 1:\n",
    "        # return exponens and exponents mod 2 for the binary matrix\n",
    "        return exponents, exponents % 2\n",
    "    return None"
   ]
  },
  {
   "cell_type": "code",
   "execution_count": 3,
   "metadata": {},
   "outputs": [],
   "source": [
    "def matrix_to_file(matrix):\n",
    "    f = open(\"matrix_file.txt\", \"w\")\n",
    "    f.write(str(matrix.shape[0]) + \" \" + str(matrix.shape[1]) + \"\\n\")\n",
    "    for row in matrix:\n",
    "        f.write(' '.join(str(int(i)) for i in row) + \"\\n\")\n",
    "    f.close\n",
    "\n",
    "def solutions_from_file(number_of_relations):\n",
    "    f = open(\"solutions.txt\", \"r\")\n",
    "    solutions = np.array([]).reshape(0,number_of_relations)\n",
    "    next(f)\n",
    "    for i in f:\n",
    "        solutions = np.vstack([solutions, np.array(np.fromstring(i, dtype=int, sep=' '), ndmin=2)])\n",
    "    return solutions"
   ]
  },
  {
   "cell_type": "code",
   "execution_count": 4,
   "metadata": {},
   "outputs": [],
   "source": [
    "def generate_relatinos(n, factor_base):\n",
    "    relations = np.array([]).reshape(0,2)\n",
    "    matrix = np.array([]).reshape(0, len(factor_base))\n",
    "    bound = 20\n",
    "    while len(relations) < len(factor_base):\n",
    "        for k in range(1, bound):\n",
    "            for j in range(1, k + 1):\n",
    "                # calculate r and r^2 mod N\n",
    "                r = math.floor(math.sqrt(k * n)) + j\n",
    "                r_sq_mod = (r**2) % n\n",
    "                # check if r^2 mod N is a smooth number\n",
    "                if is_smooth(r_sq_mod, factor_base):\n",
    "                    exponents, row = get_factors(r_sq_mod, factor_base)\n",
    "                    # check if there is not the same binary row already\n",
    "                    if not any(np.equal(matrix,row).all(1)):\n",
    "                        relations = np.vstack([relations, np.array([r, exponents], dtype=object)])\n",
    "                        matrix = np.vstack([matrix, row])\n",
    "                    if len(relations) >= len(factor_base) + 10:\n",
    "                        return relations, matrix\n",
    "            bound += 10\n",
    "    return relations, matrix"
   ]
  },
  {
   "cell_type": "code",
   "execution_count": 5,
   "metadata": {},
   "outputs": [],
   "source": [
    "def get_solutions(n, solutions, relations, factor_base):\n",
    "    attempts_cnt = 0\n",
    "    for solution in solutions:\n",
    "        attempts_cnt += 1\n",
    "        x = mpz(1)\n",
    "        y_exp = np.zeros(int(len(factor_base)))\n",
    "        # evaluate one solution \n",
    "        for i, elem in enumerate(solution):\n",
    "            if elem == 1:\n",
    "                x *= mpz(relations[i][0])\n",
    "                y_exp += relations[i][1]\n",
    "        y = mpz(1)\n",
    "        # restore y from the factors\n",
    "        for i in range(len(factor_base)):\n",
    "            y *= mpz(factor_base[i] ** (y_exp[i] / 2))\n",
    "        # calculate gcd and check the condition p != (-)1\n",
    "        p = abs(int(gmpy2.gcd(mpz(y - x), mpz(n))))\n",
    "        if p != mpz(1) and p != mpz(n):\n",
    "            return p, mpz(n) / p, attempts_cnt\n",
    "    return 0, 0, attempts_cnt"
   ]
  },
  {
   "cell_type": "code",
   "execution_count": 6,
   "metadata": {},
   "outputs": [],
   "source": [
    "def quadratic_sieve_algorithm(n, size_of_factor_base = 0):\n",
    "    # set a time starting point\n",
    "    start_time = time.time()\n",
    "    # generete factor base\n",
    "    factor_base = generate_factor_base(n, size_of_factor_base)\n",
    "    # generate realations x^2 = y mod N, where y == smooth number\n",
    "    relations, matrix = generate_relatinos(n, factor_base)\n",
    "    # load matrix into a file\n",
    "    matrix_to_file(matrix)\n",
    "    # run the Gaussian elimination in c++\n",
    "    ! g++ -std=c++17 -Wall -pedantic GaussianElm.cpp\n",
    "    ! ./a.out matrix_file.txt solutions.txt\n",
    "    # get solutions from file\n",
    "    solutions = solutions_from_file(matrix.shape[0])\n",
    "    # try solution from gaussian elimination\n",
    "    p, q, attemps = get_solutions(n, solutions, relations, factor_base)\n",
    "    # print a out put\n",
    "    print(\"\\nResult:\")\n",
    "    print(str(int(n)) + \" = \" + str(int(p)) + \" * \" + str(int(q)))\n",
    "    print(\"Number of attempts: \" + str(attemps))\n",
    "    print(\"Runtime: \" + str(time.time() - start_time) + \"s\")\n",
    "    # delete files for gaussian elimination\n",
    "    ! rm matrix_file.txt | rm solutions.txt"
   ]
  },
  {
   "cell_type": "code",
   "execution_count": 8,
   "metadata": {},
   "outputs": [
    {
     "ename": "KeyboardInterrupt",
     "evalue": "",
     "output_type": "error",
     "traceback": [
      "\u001b[0;31m---------------------------------------------------------------------------\u001b[0m",
      "\u001b[0;31mKeyboardInterrupt\u001b[0m                         Traceback (most recent call last)",
      "\u001b[1;32m/Users/barborakarlikova/FIT/3th_year/B231/EDIN01/lab_1/src/quadratic_sieve.ipynb Cell 7\u001b[0m line \u001b[0;36m1\n\u001b[1;32m      <a href='vscode-notebook-cell:/Users/barborakarlikova/FIT/3th_year/B231/EDIN01/lab_1/src/quadratic_sieve.ipynb#W6sZmlsZQ%3D%3D?line=0'>1</a>\u001b[0m \u001b[39m#323\u001b[39;00m\n\u001b[1;32m      <a href='vscode-notebook-cell:/Users/barborakarlikova/FIT/3th_year/B231/EDIN01/lab_1/src/quadratic_sieve.ipynb#W6sZmlsZQ%3D%3D?line=1'>2</a>\u001b[0m \u001b[39m#307561\u001b[39;00m\n\u001b[1;32m      <a href='vscode-notebook-cell:/Users/barborakarlikova/FIT/3th_year/B231/EDIN01/lab_1/src/quadratic_sieve.ipynb#W6sZmlsZQ%3D%3D?line=2'>3</a>\u001b[0m \u001b[39m#31741649\u001b[39;00m\n\u001b[0;32m   (...)\u001b[0m\n\u001b[1;32m     <a href='vscode-notebook-cell:/Users/barborakarlikova/FIT/3th_year/B231/EDIN01/lab_1/src/quadratic_sieve.ipynb#W6sZmlsZQ%3D%3D?line=12'>13</a>\u001b[0m \u001b[39m#170527948450228765165631\u001b[39;00m\n\u001b[1;32m     <a href='vscode-notebook-cell:/Users/barborakarlikova/FIT/3th_year/B231/EDIN01/lab_1/src/quadratic_sieve.ipynb#W6sZmlsZQ%3D%3D?line=13'>14</a>\u001b[0m \u001b[39m#106565238310234107615313\u001b[39;00m\n\u001b[0;32m---> <a href='vscode-notebook-cell:/Users/barborakarlikova/FIT/3th_year/B231/EDIN01/lab_1/src/quadratic_sieve.ipynb#W6sZmlsZQ%3D%3D?line=15'>16</a>\u001b[0m quadratic_sieve_algorithm(\u001b[39m92434447339770015548544881401\u001b[39;49m, \u001b[39m300\u001b[39;49m)\n",
      "\u001b[1;32m/Users/barborakarlikova/FIT/3th_year/B231/EDIN01/lab_1/src/quadratic_sieve.ipynb Cell 7\u001b[0m line \u001b[0;36m7\n\u001b[1;32m      <a href='vscode-notebook-cell:/Users/barborakarlikova/FIT/3th_year/B231/EDIN01/lab_1/src/quadratic_sieve.ipynb#W6sZmlsZQ%3D%3D?line=4'>5</a>\u001b[0m factor_base \u001b[39m=\u001b[39m generate_factor_base(n, size_of_factor_base)\n\u001b[1;32m      <a href='vscode-notebook-cell:/Users/barborakarlikova/FIT/3th_year/B231/EDIN01/lab_1/src/quadratic_sieve.ipynb#W6sZmlsZQ%3D%3D?line=5'>6</a>\u001b[0m \u001b[39m# generate realations x^2 = y mod N, where y == smooth number\u001b[39;00m\n\u001b[0;32m----> <a href='vscode-notebook-cell:/Users/barborakarlikova/FIT/3th_year/B231/EDIN01/lab_1/src/quadratic_sieve.ipynb#W6sZmlsZQ%3D%3D?line=6'>7</a>\u001b[0m relations, matrix \u001b[39m=\u001b[39m generate_relatinos(n, factor_base)\n\u001b[1;32m      <a href='vscode-notebook-cell:/Users/barborakarlikova/FIT/3th_year/B231/EDIN01/lab_1/src/quadratic_sieve.ipynb#W6sZmlsZQ%3D%3D?line=7'>8</a>\u001b[0m \u001b[39m# load matrix into a file\u001b[39;00m\n\u001b[1;32m      <a href='vscode-notebook-cell:/Users/barborakarlikova/FIT/3th_year/B231/EDIN01/lab_1/src/quadratic_sieve.ipynb#W6sZmlsZQ%3D%3D?line=8'>9</a>\u001b[0m matrix_to_file(matrix)\n",
      "\u001b[1;32m/Users/barborakarlikova/FIT/3th_year/B231/EDIN01/lab_1/src/quadratic_sieve.ipynb Cell 7\u001b[0m line \u001b[0;36m1\n\u001b[1;32m     <a href='vscode-notebook-cell:/Users/barborakarlikova/FIT/3th_year/B231/EDIN01/lab_1/src/quadratic_sieve.ipynb#W6sZmlsZQ%3D%3D?line=9'>10</a>\u001b[0m r_sq_mod \u001b[39m=\u001b[39m (r\u001b[39m*\u001b[39m\u001b[39m*\u001b[39m\u001b[39m2\u001b[39m) \u001b[39m%\u001b[39m n\n\u001b[1;32m     <a href='vscode-notebook-cell:/Users/barborakarlikova/FIT/3th_year/B231/EDIN01/lab_1/src/quadratic_sieve.ipynb#W6sZmlsZQ%3D%3D?line=10'>11</a>\u001b[0m \u001b[39m# check if r^2 mod N is a smooth number\u001b[39;00m\n\u001b[0;32m---> <a href='vscode-notebook-cell:/Users/barborakarlikova/FIT/3th_year/B231/EDIN01/lab_1/src/quadratic_sieve.ipynb#W6sZmlsZQ%3D%3D?line=11'>12</a>\u001b[0m \u001b[39mif\u001b[39;00m is_smooth(r_sq_mod, factor_base):\n\u001b[1;32m     <a href='vscode-notebook-cell:/Users/barborakarlikova/FIT/3th_year/B231/EDIN01/lab_1/src/quadratic_sieve.ipynb#W6sZmlsZQ%3D%3D?line=12'>13</a>\u001b[0m     exponents, row \u001b[39m=\u001b[39m get_factors(r_sq_mod, factor_base)\n\u001b[1;32m     <a href='vscode-notebook-cell:/Users/barborakarlikova/FIT/3th_year/B231/EDIN01/lab_1/src/quadratic_sieve.ipynb#W6sZmlsZQ%3D%3D?line=13'>14</a>\u001b[0m     \u001b[39m# check if there is not the same binary row already\u001b[39;00m\n",
      "\u001b[1;32m/Users/barborakarlikova/FIT/3th_year/B231/EDIN01/lab_1/src/quadratic_sieve.ipynb Cell 7\u001b[0m line \u001b[0;36m5\n\u001b[1;32m      <a href='vscode-notebook-cell:/Users/barborakarlikova/FIT/3th_year/B231/EDIN01/lab_1/src/quadratic_sieve.ipynb#W6sZmlsZQ%3D%3D?line=2'>3</a>\u001b[0m     \u001b[39mreturn\u001b[39;00m \u001b[39mFalse\u001b[39;00m\n\u001b[1;32m      <a href='vscode-notebook-cell:/Users/barborakarlikova/FIT/3th_year/B231/EDIN01/lab_1/src/quadratic_sieve.ipynb#W6sZmlsZQ%3D%3D?line=3'>4</a>\u001b[0m \u001b[39mfor\u001b[39;00m i \u001b[39min\u001b[39;00m factor_base:\n\u001b[0;32m----> <a href='vscode-notebook-cell:/Users/barborakarlikova/FIT/3th_year/B231/EDIN01/lab_1/src/quadratic_sieve.ipynb#W6sZmlsZQ%3D%3D?line=4'>5</a>\u001b[0m     \u001b[39mwhile\u001b[39;00m n \u001b[39m%\u001b[39m i \u001b[39m==\u001b[39m \u001b[39m0\u001b[39m:\n\u001b[1;32m      <a href='vscode-notebook-cell:/Users/barborakarlikova/FIT/3th_year/B231/EDIN01/lab_1/src/quadratic_sieve.ipynb#W6sZmlsZQ%3D%3D?line=5'>6</a>\u001b[0m         n \u001b[39m/\u001b[39m\u001b[39m/\u001b[39m\u001b[39m=\u001b[39m i\n\u001b[1;32m      <a href='vscode-notebook-cell:/Users/barborakarlikova/FIT/3th_year/B231/EDIN01/lab_1/src/quadratic_sieve.ipynb#W6sZmlsZQ%3D%3D?line=6'>7</a>\u001b[0m \u001b[39mif\u001b[39;00m n \u001b[39m==\u001b[39m \u001b[39m1\u001b[39m:\n",
      "\u001b[0;31mKeyboardInterrupt\u001b[0m: "
     ]
    }
   ],
   "source": [
    "#323\n",
    "#307561\n",
    "#31741649\n",
    "#3205837387 \n",
    "#392742364277\n",
    "#58660100715217\n",
    "#508111006563443\n",
    "#1702818100334447\n",
    "#13351810745855651\n",
    "#94217663539251883\n",
    "#140652271589468237\n",
    "#3363271280049834261077\n",
    "#170527948450228765165631\n",
    "#106565238310234107615313\n",
    "\n",
    "quadratic_sieve_algorithm(92434447339770015548544881401, 300)"
   ]
  },
  {
   "cell_type": "code",
   "execution_count": null,
   "metadata": {},
   "outputs": [],
   "source": []
  },
  {
   "cell_type": "code",
   "execution_count": null,
   "metadata": {},
   "outputs": [],
   "source": []
  }
 ],
 "metadata": {
  "kernelspec": {
   "display_name": "bi-pyt-sem",
   "language": "python",
   "name": "python3"
  },
  "language_info": {
   "codemirror_mode": {
    "name": "ipython",
    "version": 3
   },
   "file_extension": ".py",
   "mimetype": "text/x-python",
   "name": "python",
   "nbconvert_exporter": "python",
   "pygments_lexer": "ipython3",
   "version": "3.10.8"
  }
 },
 "nbformat": 4,
 "nbformat_minor": 2
}
