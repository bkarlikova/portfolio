{
 "cells": [
  {
   "cell_type": "code",
   "execution_count": null,
   "metadata": {},
   "outputs": [],
   "source": [
    "import numpy as np\n",
    "import cv2\n",
    "import matplotlib.pyplot as plt\n",
    "from sklearn.decomposition import PCA\n",
    "from sklearn.preprocessing import normalize\n",
    "from data_preprocessing import *\n",
    "import time\n",
    "\n",
    "methods = [\"SIFT\", \"KAZE\", \"AKAZE\", \"ORB\", \"BRISK\"]"
   ]
  },
  {
   "cell_type": "code",
   "execution_count": null,
   "metadata": {},
   "outputs": [],
   "source": [
    "time_compare = pd.DataFrame(columns=[\"method\", \"time\"])\n",
    "for m in methods:\n",
    "    start = time.time()\n",
    "    get_keypoints_and_descriptors(\"/Users/barborakarlikova/FIT/3rd_year/B232/VWM/data/butterflies_all/\", \n",
    "                                  get_method_according_to_string(m)[0])\n",
    "    end = time.time()\n",
    "    time_compare.loc[len(time_compare.index)] = [m, end - start]"
   ]
  },
  {
   "cell_type": "code",
   "execution_count": null,
   "metadata": {},
   "outputs": [],
   "source": [
    "display(time_compare)"
   ]
  },
  {
   "cell_type": "code",
   "execution_count": null,
   "metadata": {},
   "outputs": [],
   "source": [
    "df = pd.read_csv(\"/Users/barborakarlikova/FIT/3rd_year/B232/VWM/bi-vwm/test_data/Training_set.csv\")\n",
    "df.loc[len(df.index)] = [\"Image_3704_upsidedown.jpg\", \"PAPER KITE\"]\n",
    "df.loc[len(df.index)] = [\"Image_4721_zoom.jpg\", \"CAIRNS BIRDWING\"]\n",
    "df.loc[len(df.index)] = [\"Image_5843_right.jpg\", \"VICEROY\"]\n",
    "df.loc[len(df.index)] = [\"Image_5438_fliped.jpg\", \"CLOUDED SULPHUR\"]\n",
    "df.loc[len(df.index)] = [\"Image_3642_binary.jpg\", \"GREEN CELLED CATTLEHEART\"]"
   ]
  },
  {
   "cell_type": "code",
   "execution_count": null,
   "metadata": {},
   "outputs": [],
   "source": [
    "zeros = np.zeros(len(os.listdir(\"/Users/barborakarlikova/FIT/3rd_year/B232/VWM/bi-vwm/test_data/butterflies_y/\")))"
   ]
  },
  {
   "cell_type": "code",
   "execution_count": null,
   "metadata": {},
   "outputs": [],
   "source": [
    "stats = pd.DataFrame(data = {\"SIFT\": zeros, \"KAZE\": zeros, \"AKAZE\": zeros, \"ORB\":zeros, \"BRISK\" : zeros} )\n",
    "for m in methods:\n",
    "    x = get_keypoints_and_descriptors(\"/Users/barborakarlikova/FIT/3rd_year/B232/VWM/bi-vwm/test_data/butterflies_x/\", get_method_according_to_string(m)[0])\n",
    "    y = get_keypoints_and_descriptors(\"/Users/barborakarlikova/FIT/3rd_year/B232/VWM/bi-vwm/test_data/butterflies_y/\", get_method_according_to_string(m)[0]) \n",
    "    x_lim = len(x)\n",
    "    y_lim = len(y)\n",
    "    res = find_similarity(x, y)\n",
    "    for _, row in res.iterrows():\n",
    "        for i, (key, value) in enumerate(row[\"similarities\"]):\n",
    "            if df[df[\"filename\"] == row[\"image\"]][\"label\"].values[0] == df[df[\"filename\"] == key][\"label\"].values[0]:\n",
    "                stats.loc[i, m] += 1\n",
    "                "
   ]
  },
  {
   "cell_type": "code",
   "execution_count": null,
   "metadata": {},
   "outputs": [],
   "source": [
    "fig, ax = plt.subplots(layout='constrained', figsize=(20,8))\n",
    "width=0.15\n",
    "multiplier = 1\n",
    "colors = [\"#024b7e\", \"#3ebaca\",\"#9cdbea\",\"#e99f8f\", \"#eada6d\" ,]\n",
    "x = np.arange(len(stats))\n",
    "for method, color in zip(methods, colors):\n",
    "    offset = width * multiplier\n",
    "    rects = ax.bar(x+offset, stats[method].values, width, color=color, label=method)\n",
    "    #ax.bar_label(rects, padding=3)\n",
    "    multiplier += 1\n",
    "\n",
    "ax.grid(True, axis=\"y\")\n",
    "ax.set_ylabel('number of correct images')\n",
    "ax.set_xlabel('n-th similar image')\n",
    "ax.set_ylim(0,x_lim)\n",
    "ax.set_xlim(0,y_lim)\n",
    "ax.set_title('Correctness per feature detection algorithms')\n",
    "ax.set_xticks(x + width, stats.index)\n",
    "ax.legend(loc='upper center', ncols=10)\n",
    "\n",
    "plt.show()"
   ]
  }
 ],
 "metadata": {
  "kernelspec": {
   "display_name": "venv_svz",
   "language": "python",
   "name": "python3"
  },
  "language_info": {
   "codemirror_mode": {
    "name": "ipython",
    "version": 3
   },
   "file_extension": ".py",
   "mimetype": "text/x-python",
   "name": "python",
   "nbconvert_exporter": "python",
   "pygments_lexer": "ipython3",
   "version": "3.12.2"
  }
 },
 "nbformat": 4,
 "nbformat_minor": 2
}
